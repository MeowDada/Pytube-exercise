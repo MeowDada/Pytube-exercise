{
 "cells": [
  {
   "cell_type": "markdown",
   "metadata": {},
   "source": [
    "# Download a single video"
   ]
  },
  {
   "cell_type": "code",
   "execution_count": null,
   "metadata": {},
   "outputs": [],
   "source": [
    "import os\n",
    "from pytube import YouTube\n",
    "\n",
    "video_url = 'https://www.youtube.com/watch?v=S2ksUxJD3oE'\n",
    "save_dir = './youtube_download/'\n",
    "\n",
    "if not os.path.isdir(save_dir):\n",
    "    os.makedirs(save_dir)\n",
    "\n",
    "yt = YouTube(video_url)\n",
    "print(\"影片名稱：\" + yt.title)\n",
    "print(\"影片格式共有 \" + str(yt.streams.count()) + ' 種')\n",
    "\n",
    "type_list = yt.streams.all()\n",
    "for stream in type_list:\n",
    "    print(stream)\n",
    "\n",
    "print('Start donwloading the video, please wait a moment')\n",
    "yt.streams.first().download(save_dir)\n",
    "print('Finished downloading')"
   ]
  },
  {
   "cell_type": "markdown",
   "metadata": {},
   "source": [
    "# Download the whole list"
   ]
  },
  {
   "cell_type": "code",
   "execution_count": 17,
   "metadata": {},
   "outputs": [
    {
     "name": "stdout",
     "output_type": "stream",
     "text": [
      "影片名稱：SLSMusic｜１０分メドレー　ワンピースOPを弾いてみた\n",
      "影片名稱：\"Fate/stay Night\" Aimer - Last Stardust - SLS Piano Cover\n",
      "/watch?v=JPgSHThe-sA&amp;list=PLqY5-xxyprjvRFtzx5OPeWYIyncPC2JGi&amp;index=1 went wrong, we'll skip downloading this one\n",
      "影片名稱：Secret Base ~Kimi ga Kureta Mono~ \"Anohana\" - Piano & Violin Cover\n",
      "影片名稱：Your Lie in April - Kimi ga Iru - SLS Piano Cover\n",
      "影片名稱：SLSMusic｜No Game No Life OST - No Game No Life - Piano Cover\n",
      "/watch?v=S83jCiiThEw&amp;list=PLqY5-xxyprjvRFtzx5OPeWYIyncPC2JGi&amp;index=6 went wrong, we'll skip downloading this one\n",
      "影片名稱：Mai Kuraki - Secret of My Heart - SLS Piano Cover (from \"Detective Conan ED9\")\n",
      "影片名稱：Naruto Shippuden OST - \"Reverse Situation\" 形勢逆転 - SLS Piano Cover (Spin and Burst)\n",
      "/watch?v=L7QtlMHad6c&amp;list=PLqY5-xxyprjvRFtzx5OPeWYIyncPC2JGi&amp;index=9 went wrong, we'll skip downloading this one\n",
      "影片名稱：Naruto Shippuden OST - Departure To The Front Lines - SLS Piano Cover\n",
      "影片名稱：Domestic na Kanojo - \"Kawaki wo Ameku\"- Minami - SLS Piano Cover\n",
      "影片名稱：【ピアノ】僕らまだアンダーグラウンド を弾いてみた【Eve】\n",
      "影片名稱：【ピアノ】SAO劇場版　ユナ「longing」を弾いてみた【ソードアートオンライン】\n",
      "影片名稱：Final Fantasy XV - Valse di Fantastica - SLS Piano Cover\n",
      "影片名稱：【ピアノ・バイオリン】ASCA 『RESISTER』フルを弾いてみた（ソードアートオンライン アリシゼーション OP2)\n",
      "影片名稱：Viator - rionos  (Maquia: When the Promised Flower Blooms) - Piano & Violin Cover\n",
      "影片名稱：Mahoutsukai No Yome - Lindel Song - SLS Piano Cover\n",
      "影片名稱：【ゴブリンスレイヤー OP】「Rightfully」を弾いてみた CINEMATIC Piano & Violin Cover\n",
      "影片名稱：【FAIRY TAIL】メインテーマ を弾いてみた【ピアノ・バイオリン】\n",
      "影片名稱：【SLSMusic】ピアノで Only My Railgun を弾いてみた【とある科学の超電磁砲】\n",
      "影片名稱：SLSMusic｜バイオリンで 藍井エイル【アイリス】を弾いてみた / SAO Season3 ED Eir Aoi - BOY Violin Cover\n",
      "影片名稱：【FAIRY TAIL】POWER OF THE DREAM を弾いてみた【ピアノ・バイオリン・ギター】ft. 維尼\n",
      "/watch?v=nTfr10C_sho&amp;list=PLqY5-xxyprjvRFtzx5OPeWYIyncPC2JGi&amp;index=23 went wrong, we'll skip downloading this one\n",
      "影片名稱：【ピアノ・バイオリン】ADAMAS / LiSA を弾いてみた【SWORD ART ONLINE ALICIZATION】\n",
      "影片名稱：SLSMusic｜RISE - League of Legends｜Worlds 2018 - Piano & Violin Cover\n",
      "影片名稱：【ピアノ】NieR: Automata｜壊レタ世界ノ歌 Weight of the World 【IN 12 KEYS】\n",
      "影片名稱：SLSMusic｜新世紀福音戰士｜残酷な天使のテーゼ｜Flute & Piano & Drum Cover ft. Lily, Drumstick\n",
      "影片名稱：SLSMusic｜刀劍神域 Sword Art Online｜SMILE FOR ME｜Violin & Piano Cover【楽譜】\n",
      "影片名稱：SLSMusic｜櫻桃小丸子｜Chibi Maruko Chan｜Piano Tribute\n",
      "影片名稱：SLSMusic｜Attack on Titan 進撃の巨人｜Red Swan - YOSHIKI feat. HYDE｜Piano & Violin Cover\n",
      "影片名稱：SLSMusic｜Overlord 不死者之王｜VORACITY - MYTH & ROID｜Piano Cover\n",
      "影片名稱：SLSMusic｜刀劍神域 GGO｜Ryuusei 流星 - 藍井艾露｜Piano & Violin & Drum Cover ft. Drumstick 桿子\n",
      "/watch?v=SDwps35hQbg&amp;list=PLqY5-xxyprjvRFtzx5OPeWYIyncPC2JGi&amp;index=33 went wrong, we'll skip downloading this one\n",
      "影片名稱：SLSMusic｜來自深淵｜Deep in Abyss｜Piano Cover\n",
      "影片名稱：SLSMusic｜愛在雨過天晴時｜Ref:rain - Aimer｜Piano cover\n",
      "影片名稱：SLSMusic｜ONE OK ROCK - Heartache｜神劍闖江湖｜Piano & Violin Cover\n",
      "影片名稱：SLSMusic｜刀劍神域 Sword Art Online｜You Are Not Alone - Yuuki｜Piano Cover\n",
      "影片名稱：SLSMusic｜永遠的七日之都｜My Days - 鈴木木乃美 / GARNIDELiA｜Piano Cover\n",
      "影片名稱：SLSMusic｜刀劍神域 Sword Art Online｜Ignite - 藍井艾露｜Piano & Violin Cover ft. 桿子 Drumstick\n",
      "影片名稱：SLSMusic｜紫羅蘭永恆花園｜Sincerely - True｜Violin & Piano Cover\n",
      "影片名稱：SLSMusic｜刀劍神域 Sword Art Online｜Catch The Moment - LiSA｜Piano cover\n",
      "影片名稱：SLSMusic｜海賊王配樂 ONE PIECE｜Overtaken｜Piano & Percussion Cover\n",
      "影片名稱：SLSMusic｜No Game No Life: Zero遊戲人生｜THERE IS A REASON｜Piano & Violin Cover\n",
      "影片名稱：SLSMusic｜名偵探柯南：唐紅的戀歌｜渡月橋～ 想念你～ - 倉木麻衣｜Piano Cover\n",
      "影片名稱：SLSMusic｜罪惡王冠｜My Dearest - supercell｜Band cover\n",
      "影片名稱：SLSMusic｜ONE PIECE 海賊王 OP13｜One Day  -  Rootless｜Violin & Piano Cover\n",
      "影片名稱：SLSMusic｜你的名字。｜三葉の通学 三葉上學｜Piano Cover\n",
      "影片名稱：SLSMusic｜四月是你的謊言｜光るなら - Goose House｜Violin & Piano Cover\n",
      "影片名稱：SLSMusic｜打上花火 -  DAOKO × 米津玄師｜Violin & Piano Cover\n",
      "影片名稱：SLSMusic｜數碼寶貝 Digimon｜Butter-Fly｜Band Cover\n",
      "/watch?v=KZP8Op2yzQs&amp;list=PLqY5-xxyprjvRFtzx5OPeWYIyncPC2JGi&amp;index=50 went wrong, we'll skip downloading this one\n",
      "影片名稱：SLSMusic｜尼爾:自動人形｜Weight of the World / NieR: Automata - Violin & Piano Cover\n",
      "影片名稱：SLSMusic｜火影忍者疾風傳 Naruto Shippuden OP3｜青鳥 Blue Bird - 生物股長｜Violin & Piano Cover\n",
      "影片名稱：SLSMusic｜楓之谷 MapleStory｜Leafre 神木村｜Piano Cover\n",
      "影片名稱：【神奇寶貝二重奏】寶石版「101番道路」、「戰鬥音樂」Cover\n",
      "影片名稱：SLSMusic｜遊戲王經典熱血配樂｜熱き決闘者たち - Violin & Piano Cover\n",
      "影片名稱：SLSMusic｜遊戲人生 No Game No Life｜This Game - Piano Cover\n",
      "影片名稱：SLSMusic｜君の名は。メドレー｜前前前世、夢灯籠、三葉のテーマ、なんでもないや - Violin & Piano Cover\n",
      "影片名稱：SLSMusic｜君の名は。｜夢灯籠 / RADWIMPS - Violin & Piano Cover\n",
      "影片名稱：SLSMusic｜君の名は。｜前前前世 / RADWIMPS - SLS Piano Cover\n",
      "影片名稱：SLSMusic｜君の名は。｜前前前世 / RADWIMPS - SLS Piano Cover\n",
      "影片名稱：SLSMusic｜龍之谷 Dragon Nest｜神聖天堂 Saint Haven - Piano Cover\n",
      "影片名稱：SLSMusic｜Soul Worker OST - Piano Cover\n",
      "影片名稱：SLSMusic｜楓之谷 - 耶雷弗｜Raindrop Flower / Maplestory \"Ereve\" - Piano Cover\n",
      "/watch?v=_d7g0NIFyN0&amp;list=PLqY5-xxyprjvRFtzx5OPeWYIyncPC2JGi&amp;index=64 went wrong, we'll skip downloading this one\n",
      "影片名稱：SLSMusic｜名探偵コナン｜メインテーマ - 弾いてみた Violin & Piano Cover\n",
      "影片名稱：SLSMusic｜海賊王第一季主題曲｜We Are \"ウィーアー!\" / ONE PIECE OP1 - Violin & Piano Cover\n",
      "影片名稱：SLSMusic｜航海王配樂｜黄金とおでん Gold And Oden / ONE PIECE - Piano Cover\n",
      "/watch?v=JMt4m608s3k&amp;list=PLqY5-xxyprjvRFtzx5OPeWYIyncPC2JGi&amp;index=68 went wrong, we'll skip downloading this one\n",
      "影片名稱：SLSMusic｜海賊王配樂｜生きていればこそ Because we're Alive / ONE PIECE - Piano Cover\n",
      "影片名稱：SLSMusic｜海賊王主題曲｜ Crazy Rainbow / タッキー & 翼 One Piece OP7 - Violin & Piano Cover\n",
      "Finished downloading all video!\n"
     ]
    }
   ],
   "source": [
    "import requests\n",
    "import re\n",
    "\n",
    "list_url = 'https://www.youtube.com/watch?v=JPgSHThe-sA&list=PLqY5-xxyprjvRFtzx5OPeWYIyncPC2JGi'\n",
    "\n",
    "html = requests.get(list_url)\n",
    "res = re.findall(r'/watch[-A-Za-z0-9+&@#/%?=~_|!:,.;]+[-A-Za-z0-9+&@#/%=~_|]', html.text)\n",
    "\n",
    "video_list = []\n",
    "\n",
    "for url in res:\n",
    "    if 'list=' and 'index=' in url:\n",
    "        if url not in video_list:\n",
    "            video_list.append(url)\n",
    "\n",
    "for video_url in video_list:\n",
    "    try:\n",
    "        yt = YouTube(video_url)\n",
    "        print(\"影片名稱：\" + yt.title)\n",
    "        yt.streams.first().download(save_dir)\n",
    "    except:\n",
    "        print(video_url + \" went wrong, we'll skip downloading this one\")\n",
    "\n",
    "print('Finished downloading all video!')"
   ]
  },
  {
   "cell_type": "code",
   "execution_count": null,
   "metadata": {},
   "outputs": [],
   "source": []
  }
 ],
 "metadata": {
  "kernelspec": {
   "display_name": "Python 3",
   "language": "python",
   "name": "python3"
  },
  "language_info": {
   "codemirror_mode": {
    "name": "ipython",
    "version": 3
   },
   "file_extension": ".py",
   "mimetype": "text/x-python",
   "name": "python",
   "nbconvert_exporter": "python",
   "pygments_lexer": "ipython3",
   "version": "3.7.1"
  }
 },
 "nbformat": 4,
 "nbformat_minor": 2
}
